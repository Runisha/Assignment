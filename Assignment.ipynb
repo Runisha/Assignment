{
 "cells": [
  {
   "cell_type": "code",
   "execution_count": 20,
   "metadata": {},
   "outputs": [],
   "source": [
    "import numpy as np\n",
    "import pandas as pd\n",
    "import matplotlib.pyplot as plt\n",
    "from sklearn.decomposition import PCA\n",
    "from sklearn.preprocessing import StandardScaler\n"
   ]
  },
  {
   "cell_type": "code",
   "execution_count": 21,
   "metadata": {},
   "outputs": [
    {
     "data": {
      "text/plain": [
       "(8041, 35)"
      ]
     },
     "execution_count": 21,
     "metadata": {},
     "output_type": "execute_result"
    }
   ],
   "source": [
    "## loading the Dataset\n",
    "df = pd.read_csv('PCA_practice_dataset.csv')\n",
    "df.head()\n",
    "## Converting the Data into numpy\n",
    "X = df.values\n",
    "X.shape"
   ]
  },
  {
   "cell_type": "code",
   "execution_count": 22,
   "metadata": {},
   "outputs": [],
   "source": [
    "## Standardizing our data to have zero-mean and unit-variance\n",
    "scaler = StandardScaler()\n",
    "X = scaler.fit_transform(X)"
   ]
  },
  {
   "cell_type": "code",
   "execution_count": 23,
   "metadata": {},
   "outputs": [],
   "source": [
    "## Performing PCA\n",
    "pca = PCA()\n",
    "X = pca.fit_transform(X)"
   ]
  },
  {
   "cell_type": "code",
   "execution_count": 24,
   "metadata": {},
   "outputs": [
    {
     "name": "stdout",
     "output_type": "stream",
     "text": [
      "Principal Components for 90% threshold are:2\n",
      "Principal Components for 91% threshold are:2\n",
      "Principal Components for 92% threshold are:3\n",
      "Principal Components for 93% threshold are:3\n",
      "Principal Components for 94% threshold are:4\n",
      "Principal Components for 95% threshold are:4\n",
      "Principal Components for 96% threshold are:5\n",
      "Principal Components for 97% threshold are:6\n"
     ]
    }
   ],
   "source": [
    "## Sum of all Eigen values for correseponding eigen vectors\n",
    "cumalitive_variance = np.cumsum(pca.explained_variance_ratio_)*100\n",
    "## List of the desired thresholds\n",
    "thresholds = [i for i in range(90,97+1,1)]\n",
    "\n",
    "## List of the components required to retain the variance as mentioned in the required threshold list\n",
    "components = [np.argmax(cumalitive_variance>threshold)for threshold in thresholds]\n",
    "\n",
    "for component,threshold in zip(components,thresholds):\n",
    "    print(\"Principal Components for {}% threshold are:{}\".format(threshold,component))"
   ]
  },
  {
   "cell_type": "code",
   "execution_count": 25,
   "metadata": {},
   "outputs": [
    {
     "data": {
      "text/plain": [
       "<function matplotlib.pyplot.show>"
      ]
     },
     "execution_count": 25,
     "metadata": {},
     "output_type": "execute_result"
    },
    {
     "data": {
      "image/png": "[encoded data removed]",
      "text/plain": [
       "<matplotlib.figure.Figure at 0x1cb213a07f0>"
      ]
     },
     "metadata": {},
     "output_type": "display_data"
    }
   ],
   "source": [
    "## Plotting the data in the form of scree plot\n",
    "\n",
    "plt.plot(components,range(90,97+1,1),'ro-',linewidth=2)\n",
    "plt.title(\"Scree Plot\")\n",
    "plt.xlabel(\"Prinsipal Component\")\n",
    "plt.ylabel(\"Threshold in %\")\n",
    "plt.show"
   ]
  },
  {
   "cell_type": "code",
   "execution_count": 26,
   "metadata": {},
   "outputs": [
    {
     "name": "stdout",
     "output_type": "stream",
     "text": [
      "After dimension reductionality to retain 90% threshold\n",
      "New shape of the dataset is: (8041, 2)\n",
      "\n",
      "\n",
      "After dimension reductionality to retain 91% threshold\n",
      "New shape of the dataset is: (8041, 2)\n",
      "\n",
      "\n",
      "After dimension reductionality to retain 92% threshold\n",
      "New shape of the dataset is: (8041, 3)\n",
      "\n",
      "\n",
      "After dimension reductionality to retain 93% threshold\n",
      "New shape of the dataset is: (8041, 3)\n",
      "\n",
      "\n",
      "After dimension reductionality to retain 94% threshold\n",
      "New shape of the dataset is: (8041, 4)\n",
      "\n",
      "\n",
      "After dimension reductionality to retain 95% threshold\n",
      "New shape of the dataset is: (8041, 4)\n",
      "\n",
      "\n",
      "After dimension reductionality to retain 96% threshold\n",
      "New shape of the dataset is: (8041, 5)\n",
      "\n",
      "\n",
      "After dimension reductionality to retain 97% threshold\n",
      "New shape of the dataset is: (8041, 6)\n",
      "\n",
      "\n"
     ]
    }
   ],
   "source": [
    "## Performing Dimensionality reductionX_orig = X\n",
    "\n",
    "for component, var in zip(components,thresholds):\n",
    "    pca = PCA(n_components = component) ## Passing the number of components required for each threshold\n",
    "    X_transformed = pca.fit_transform(X_orig) ## Reduced diensonality dataset\n",
    "    print(\"After dimension reductionality to retain {}% threshold\".format(var))\n",
    "    print(\"New shape of the dataset is:\",X_transformed.shape)\n",
    "    print(\"\\n\")"
   ]
  },
  {
   "cell_type": "code",
   "execution_count": null,
   "metadata": {},
   "outputs": [],
   "source": []
  }
 ],
 "metadata": {
  "kernelspec": {
   "display_name": "Python 3",
   "language": "python",
   "name": "python3"
  },
  "language_info": {
   "codemirror_mode": {
    "name": "ipython",
    "version": 3
   },
   "file_extension": ".py",
   "mimetype": "text/x-python",
   "name": "python",
   "nbconvert_exporter": "python",
   "pygments_lexer": "ipython3",
   "version": "3.6.4"
  }
 },
 "nbformat": 4,
 "nbformat_minor": 2
}
